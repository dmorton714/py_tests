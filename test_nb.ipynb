{
 "cells": [
  {
   "cell_type": "code",
   "execution_count": 17,
   "metadata": {},
   "outputs": [],
   "source": [
    "import pandas as pd\n",
    "import numpy as np\n",
    "import matplotlib"
   ]
  },
  {
   "cell_type": "code",
   "execution_count": 18,
   "metadata": {},
   "outputs": [],
   "source": [
    "def get_data(size = 10_000):\n",
    "    df = pd.DataFrame()\n",
    "    df['age'] = np.random.randint(0, 100, size)\n",
    "    df['time_in_bed'] = np.random.randint(0, 9, size)\n",
    "    df['pct_sleeping'] = np.random.rand(size)\n",
    "    df['favorite_food'] = np.random.choice(['pizza', 'taco', 'ice_cream'], size)\n",
    "    df['hate_food'] = np.random.choice(['broccoli', 'candycorn', 'eggs'], size)\n",
    "    return df"
   ]
  },
  {
   "cell_type": "code",
   "execution_count": 19,
   "metadata": {},
   "outputs": [
    {
     "data": {
      "text/html": [
       "<div>\n",
       "<style scoped>\n",
       "    .dataframe tbody tr th:only-of-type {\n",
       "        vertical-align: middle;\n",
       "    }\n",
       "\n",
       "    .dataframe tbody tr th {\n",
       "        vertical-align: top;\n",
       "    }\n",
       "\n",
       "    .dataframe thead th {\n",
       "        text-align: right;\n",
       "    }\n",
       "</style>\n",
       "<table border=\"1\" class=\"dataframe\">\n",
       "  <thead>\n",
       "    <tr style=\"text-align: right;\">\n",
       "      <th></th>\n",
       "      <th>Unnamed: 0</th>\n",
       "      <th>age</th>\n",
       "      <th>time_in_bed</th>\n",
       "      <th>pct_sleeping</th>\n",
       "      <th>favorite_food</th>\n",
       "      <th>hate_food</th>\n",
       "    </tr>\n",
       "  </thead>\n",
       "  <tbody>\n",
       "    <tr>\n",
       "      <th>0</th>\n",
       "      <td>0</td>\n",
       "      <td>65</td>\n",
       "      <td>3</td>\n",
       "      <td>0.944944</td>\n",
       "      <td>taco</td>\n",
       "      <td>candycorn</td>\n",
       "    </tr>\n",
       "    <tr>\n",
       "      <th>1</th>\n",
       "      <td>1</td>\n",
       "      <td>82</td>\n",
       "      <td>8</td>\n",
       "      <td>0.898929</td>\n",
       "      <td>ice_cream</td>\n",
       "      <td>eggs</td>\n",
       "    </tr>\n",
       "    <tr>\n",
       "      <th>2</th>\n",
       "      <td>2</td>\n",
       "      <td>22</td>\n",
       "      <td>0</td>\n",
       "      <td>0.348124</td>\n",
       "      <td>ice_cream</td>\n",
       "      <td>candycorn</td>\n",
       "    </tr>\n",
       "    <tr>\n",
       "      <th>3</th>\n",
       "      <td>3</td>\n",
       "      <td>66</td>\n",
       "      <td>5</td>\n",
       "      <td>0.315196</td>\n",
       "      <td>taco</td>\n",
       "      <td>broccoli</td>\n",
       "    </tr>\n",
       "    <tr>\n",
       "      <th>4</th>\n",
       "      <td>4</td>\n",
       "      <td>23</td>\n",
       "      <td>8</td>\n",
       "      <td>0.540106</td>\n",
       "      <td>pizza</td>\n",
       "      <td>candycorn</td>\n",
       "    </tr>\n",
       "    <tr>\n",
       "      <th>...</th>\n",
       "      <td>...</td>\n",
       "      <td>...</td>\n",
       "      <td>...</td>\n",
       "      <td>...</td>\n",
       "      <td>...</td>\n",
       "      <td>...</td>\n",
       "    </tr>\n",
       "    <tr>\n",
       "      <th>9995</th>\n",
       "      <td>9995</td>\n",
       "      <td>99</td>\n",
       "      <td>0</td>\n",
       "      <td>0.537217</td>\n",
       "      <td>pizza</td>\n",
       "      <td>candycorn</td>\n",
       "    </tr>\n",
       "    <tr>\n",
       "      <th>9996</th>\n",
       "      <td>9996</td>\n",
       "      <td>29</td>\n",
       "      <td>2</td>\n",
       "      <td>0.779404</td>\n",
       "      <td>ice_cream</td>\n",
       "      <td>candycorn</td>\n",
       "    </tr>\n",
       "    <tr>\n",
       "      <th>9997</th>\n",
       "      <td>9997</td>\n",
       "      <td>50</td>\n",
       "      <td>8</td>\n",
       "      <td>0.190814</td>\n",
       "      <td>taco</td>\n",
       "      <td>candycorn</td>\n",
       "    </tr>\n",
       "    <tr>\n",
       "      <th>9998</th>\n",
       "      <td>9998</td>\n",
       "      <td>6</td>\n",
       "      <td>0</td>\n",
       "      <td>0.617348</td>\n",
       "      <td>ice_cream</td>\n",
       "      <td>broccoli</td>\n",
       "    </tr>\n",
       "    <tr>\n",
       "      <th>9999</th>\n",
       "      <td>9999</td>\n",
       "      <td>6</td>\n",
       "      <td>2</td>\n",
       "      <td>0.867729</td>\n",
       "      <td>pizza</td>\n",
       "      <td>eggs</td>\n",
       "    </tr>\n",
       "  </tbody>\n",
       "</table>\n",
       "<p>10000 rows × 6 columns</p>\n",
       "</div>"
      ],
      "text/plain": [
       "      Unnamed: 0  age  time_in_bed  pct_sleeping favorite_food  hate_food\n",
       "0              0   65            3      0.944944          taco  candycorn\n",
       "1              1   82            8      0.898929     ice_cream       eggs\n",
       "2              2   22            0      0.348124     ice_cream  candycorn\n",
       "3              3   66            5      0.315196          taco   broccoli\n",
       "4              4   23            8      0.540106         pizza  candycorn\n",
       "...          ...  ...          ...           ...           ...        ...\n",
       "9995        9995   99            0      0.537217         pizza  candycorn\n",
       "9996        9996   29            2      0.779404     ice_cream  candycorn\n",
       "9997        9997   50            8      0.190814          taco  candycorn\n",
       "9998        9998    6            0      0.617348     ice_cream   broccoli\n",
       "9999        9999    6            2      0.867729         pizza       eggs\n",
       "\n",
       "[10000 rows x 6 columns]"
      ]
     },
     "execution_count": 19,
     "metadata": {},
     "output_type": "execute_result"
    }
   ],
   "source": [
    "get_data().to_csv('get_data.csv')\n",
    "df = pd.read_csv('get_data.csv')\n",
    "df"
   ]
  },
  {
   "attachments": {},
   "cell_type": "markdown",
   "metadata": {},
   "source": [
    "## The Problem\n",
    "Reward calculation:\n",
    "- If they were in bed for more than 5 hours AND they were sleeping for more than 50% we give them their favorite food.\n",
    "- Otherwise we give them their hate food.\n",
    "If they are over 90 years old give their favorite food regardless.|"
   ]
  },
  {
   "cell_type": "code",
   "execution_count": 20,
   "metadata": {},
   "outputs": [],
   "source": [
    "def reward_calc(row):\n",
    "    if row['age'] >=90:\n",
    "        return row['favorite_food']\n",
    "    if (row['time_in_bed'] > 5) & (row['pct_sleeping'] > 0.5):\n",
    "        return row['favorite_food']\n",
    "    return row['hate_food']"
   ]
  },
  {
   "attachments": {},
   "cell_type": "markdown",
   "metadata": {},
   "source": [
    "## Level 1 - Loop "
   ]
  },
  {
   "cell_type": "code",
   "execution_count": 21,
   "metadata": {},
   "outputs": [],
   "source": [
    "# %%timeit\n",
    "df \n",
    "for index, row in df.iterrows():\n",
    "    df.loc[index, 'reward'] = reward_calc(row)"
   ]
  },
  {
   "attachments": {},
   "cell_type": "markdown",
   "metadata": {},
   "source": [
    "## level 2 - Apply"
   ]
  },
  {
   "cell_type": "code",
   "execution_count": 22,
   "metadata": {},
   "outputs": [],
   "source": [
    "# %%timeit\n",
    "df \n",
    "df[\"reward\"] = df.apply(reward_calc, axis=1)"
   ]
  },
  {
   "attachments": {},
   "cell_type": "markdown",
   "metadata": {},
   "source": [
    "## Level 3 - Vectorized"
   ]
  },
  {
   "cell_type": "code",
   "execution_count": 23,
   "metadata": {},
   "outputs": [],
   "source": [
    "# %%timeit\n",
    "df \n",
    "df['reward'] = df[\"hate_food\"]\n",
    "df.loc[\n",
    "    ((df['pct_sleeping'] > 0.5) & (df['time_in_bed'] > 5)) | \n",
    "    (df['age'] > 90), 'reward'] = df['favorite_food']"
   ]
  },
  {
   "cell_type": "code",
   "execution_count": 24,
   "metadata": {},
   "outputs": [
    {
     "data": {
      "text/plain": [
       "(10000, 8)"
      ]
     },
     "execution_count": 24,
     "metadata": {},
     "output_type": "execute_result"
    }
   ],
   "source": [
    "df['reward_outcome'] = ''\n",
    "df.shape"
   ]
  },
  {
   "cell_type": "code",
   "execution_count": 25,
   "metadata": {},
   "outputs": [
    {
     "data": {
      "text/html": [
       "<div>\n",
       "<style scoped>\n",
       "    .dataframe tbody tr th:only-of-type {\n",
       "        vertical-align: middle;\n",
       "    }\n",
       "\n",
       "    .dataframe tbody tr th {\n",
       "        vertical-align: top;\n",
       "    }\n",
       "\n",
       "    .dataframe thead th {\n",
       "        text-align: right;\n",
       "    }\n",
       "</style>\n",
       "<table border=\"1\" class=\"dataframe\">\n",
       "  <thead>\n",
       "    <tr style=\"text-align: right;\">\n",
       "      <th></th>\n",
       "      <th>Unnamed: 0</th>\n",
       "      <th>age</th>\n",
       "      <th>time_in_bed</th>\n",
       "      <th>pct_sleeping</th>\n",
       "      <th>favorite_food</th>\n",
       "      <th>hate_food</th>\n",
       "      <th>reward</th>\n",
       "      <th>reward_outcome</th>\n",
       "    </tr>\n",
       "  </thead>\n",
       "  <tbody>\n",
       "    <tr>\n",
       "      <th>0</th>\n",
       "      <td>0</td>\n",
       "      <td>65</td>\n",
       "      <td>3</td>\n",
       "      <td>0.944944</td>\n",
       "      <td>taco</td>\n",
       "      <td>candycorn</td>\n",
       "      <td>candycorn</td>\n",
       "      <td></td>\n",
       "    </tr>\n",
       "    <tr>\n",
       "      <th>1</th>\n",
       "      <td>1</td>\n",
       "      <td>82</td>\n",
       "      <td>8</td>\n",
       "      <td>0.898929</td>\n",
       "      <td>ice_cream</td>\n",
       "      <td>eggs</td>\n",
       "      <td>ice_cream</td>\n",
       "      <td></td>\n",
       "    </tr>\n",
       "    <tr>\n",
       "      <th>2</th>\n",
       "      <td>2</td>\n",
       "      <td>22</td>\n",
       "      <td>0</td>\n",
       "      <td>0.348124</td>\n",
       "      <td>ice_cream</td>\n",
       "      <td>candycorn</td>\n",
       "      <td>candycorn</td>\n",
       "      <td></td>\n",
       "    </tr>\n",
       "    <tr>\n",
       "      <th>3</th>\n",
       "      <td>3</td>\n",
       "      <td>66</td>\n",
       "      <td>5</td>\n",
       "      <td>0.315196</td>\n",
       "      <td>taco</td>\n",
       "      <td>broccoli</td>\n",
       "      <td>broccoli</td>\n",
       "      <td></td>\n",
       "    </tr>\n",
       "    <tr>\n",
       "      <th>4</th>\n",
       "      <td>4</td>\n",
       "      <td>23</td>\n",
       "      <td>8</td>\n",
       "      <td>0.540106</td>\n",
       "      <td>pizza</td>\n",
       "      <td>candycorn</td>\n",
       "      <td>pizza</td>\n",
       "      <td></td>\n",
       "    </tr>\n",
       "    <tr>\n",
       "      <th>...</th>\n",
       "      <td>...</td>\n",
       "      <td>...</td>\n",
       "      <td>...</td>\n",
       "      <td>...</td>\n",
       "      <td>...</td>\n",
       "      <td>...</td>\n",
       "      <td>...</td>\n",
       "      <td>...</td>\n",
       "    </tr>\n",
       "    <tr>\n",
       "      <th>9995</th>\n",
       "      <td>9995</td>\n",
       "      <td>99</td>\n",
       "      <td>0</td>\n",
       "      <td>0.537217</td>\n",
       "      <td>pizza</td>\n",
       "      <td>candycorn</td>\n",
       "      <td>pizza</td>\n",
       "      <td></td>\n",
       "    </tr>\n",
       "    <tr>\n",
       "      <th>9996</th>\n",
       "      <td>9996</td>\n",
       "      <td>29</td>\n",
       "      <td>2</td>\n",
       "      <td>0.779404</td>\n",
       "      <td>ice_cream</td>\n",
       "      <td>candycorn</td>\n",
       "      <td>candycorn</td>\n",
       "      <td></td>\n",
       "    </tr>\n",
       "    <tr>\n",
       "      <th>9997</th>\n",
       "      <td>9997</td>\n",
       "      <td>50</td>\n",
       "      <td>8</td>\n",
       "      <td>0.190814</td>\n",
       "      <td>taco</td>\n",
       "      <td>candycorn</td>\n",
       "      <td>candycorn</td>\n",
       "      <td></td>\n",
       "    </tr>\n",
       "    <tr>\n",
       "      <th>9998</th>\n",
       "      <td>9998</td>\n",
       "      <td>6</td>\n",
       "      <td>0</td>\n",
       "      <td>0.617348</td>\n",
       "      <td>ice_cream</td>\n",
       "      <td>broccoli</td>\n",
       "      <td>broccoli</td>\n",
       "      <td></td>\n",
       "    </tr>\n",
       "    <tr>\n",
       "      <th>9999</th>\n",
       "      <td>9999</td>\n",
       "      <td>6</td>\n",
       "      <td>2</td>\n",
       "      <td>0.867729</td>\n",
       "      <td>pizza</td>\n",
       "      <td>eggs</td>\n",
       "      <td>eggs</td>\n",
       "      <td></td>\n",
       "    </tr>\n",
       "  </tbody>\n",
       "</table>\n",
       "<p>10000 rows × 8 columns</p>\n",
       "</div>"
      ],
      "text/plain": [
       "      Unnamed: 0  age  time_in_bed  pct_sleeping favorite_food  hate_food  \\\n",
       "0              0   65            3      0.944944          taco  candycorn   \n",
       "1              1   82            8      0.898929     ice_cream       eggs   \n",
       "2              2   22            0      0.348124     ice_cream  candycorn   \n",
       "3              3   66            5      0.315196          taco   broccoli   \n",
       "4              4   23            8      0.540106         pizza  candycorn   \n",
       "...          ...  ...          ...           ...           ...        ...   \n",
       "9995        9995   99            0      0.537217         pizza  candycorn   \n",
       "9996        9996   29            2      0.779404     ice_cream  candycorn   \n",
       "9997        9997   50            8      0.190814          taco  candycorn   \n",
       "9998        9998    6            0      0.617348     ice_cream   broccoli   \n",
       "9999        9999    6            2      0.867729         pizza       eggs   \n",
       "\n",
       "         reward reward_outcome  \n",
       "0     candycorn                 \n",
       "1     ice_cream                 \n",
       "2     candycorn                 \n",
       "3      broccoli                 \n",
       "4         pizza                 \n",
       "...         ...            ...  \n",
       "9995      pizza                 \n",
       "9996  candycorn                 \n",
       "9997  candycorn                 \n",
       "9998   broccoli                 \n",
       "9999       eggs                 \n",
       "\n",
       "[10000 rows x 8 columns]"
      ]
     },
     "execution_count": 25,
     "metadata": {},
     "output_type": "execute_result"
    }
   ],
   "source": [
    "df"
   ]
  },
  {
   "cell_type": "code",
   "execution_count": 26,
   "metadata": {},
   "outputs": [
    {
     "data": {
      "text/plain": [
       "(10000, 8)"
      ]
     },
     "execution_count": 26,
     "metadata": {},
     "output_type": "execute_result"
    }
   ],
   "source": [
    "df2 = df.copy()\n",
    "df2.shape"
   ]
  },
  {
   "cell_type": "code",
   "execution_count": 27,
   "metadata": {},
   "outputs": [
    {
     "data": {
      "text/plain": [
       "(10000, 8)"
      ]
     },
     "execution_count": 27,
     "metadata": {},
     "output_type": "execute_result"
    }
   ],
   "source": [
    "df3 = df.copy()\n",
    "df3.shape"
   ]
  },
  {
   "cell_type": "code",
   "execution_count": 28,
   "metadata": {},
   "outputs": [],
   "source": [
    "# df2 = (df.query('favorite_food != reward')).dropna()\n",
    "df2 = df2.query('favorite_food == reward')\n",
    "df2 = df2.assign(reward_outcome = 'fav_food')\n",
    "# df2"
   ]
  },
  {
   "cell_type": "code",
   "execution_count": 29,
   "metadata": {},
   "outputs": [],
   "source": [
    "df3 = df3.query('favorite_food != reward')\n",
    "df3 = df3.assign(reward_outcome = 'hate_food')\n",
    "# df3"
   ]
  },
  {
   "cell_type": "code",
   "execution_count": 30,
   "metadata": {},
   "outputs": [],
   "source": [
    "reward = pd.concat([df2, df3], axis=0)\n",
    "# reward.head(10000)"
   ]
  },
  {
   "cell_type": "code",
   "execution_count": 31,
   "metadata": {},
   "outputs": [
    {
     "data": {
      "text/plain": [
       "<AxesSubplot:>"
      ]
     },
     "execution_count": 31,
     "metadata": {},
     "output_type": "execute_result"
    },
    {
     "data": {
      "image/png": "[encoded data removed]",
      "text/plain": [
       "<Figure size 432x288 with 1 Axes>"
      ]
     },
     "metadata": {
      "needs_background": "light"
     },
     "output_type": "display_data"
    }
   ],
   "source": [
    "reward['reward_outcome'].value_counts().plot(kind='bar')"
   ]
  }
 ],
 "metadata": {
  "kernelspec": {
   "display_name": "base",
   "language": "python",
   "name": "python3"
  },
  "language_info": {
   "codemirror_mode": {
    "name": "ipython",
    "version": 3
   },
   "file_extension": ".py",
   "mimetype": "text/x-python",
   "name": "python",
   "nbconvert_exporter": "python",
   "pygments_lexer": "ipython3",
   "version": "3.9.7"
  },
  "orig_nbformat": 4,
  "vscode": {
   "interpreter": {
    "hash": "0d8e97cea13f3410efc466404fc47bca7aa88dc25a0126ec85e489d636645e69"
   }
  }
 },
 "nbformat": 4,
 "nbformat_minor": 2
}
